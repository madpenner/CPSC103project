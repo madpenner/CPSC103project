{
 "cells": [
  {
   "cell_type": "code",
   "execution_count": 1,
   "metadata": {},
   "outputs": [],
   "source": [
    "from cs103 import *\n",
    "from typing import NamedTuple, List\n",
    "from enum import Enum\n",
    "import csv\n",
    "\n",
    "##################\n",
    "# Data Definitions\n",
    "\n",
    "Country = NamedTuple('Country',[('name', str),\n",
    "                                ('cropland', float),\n",
    "                                ('grazing', float),\n",
    "                                ('forest', float),\n",
    "                                ('carbon', float),\n",
    "                                ('fish', float)])\n",
    "#interp. a Country has a name, a cropland footprint, a grazing footprint, a forest footprint, \n",
    "# a carbon footprint, and a fish footprint\n",
    "\n",
    "C1 = Country(\"Afghanistan\", 0.3, 0.2, 0.08, 0.18, 0.0)\n",
    "C2 = Country(\"Angola\", 0.33, 0.15, 0.12, 0.2, 0.09)\n",
    "\n",
    "@typecheck\n",
    "def fn_for_country(c: Country)->...:\n",
    "    return...(c.name,\n",
    "              c.cropland,\n",
    "              c.grazing, \n",
    "              c.forest,\n",
    "              c.carbon,\n",
    "              c.fish)\n",
    "\n",
    "\n",
    "# List[Country]\n",
    "# interp. a list of Consumed\n",
    "\n",
    "LOC0 = []\n",
    "LOC1 = [C1, C2]\n",
    "\n",
    "@typecheck\n",
    "def fn_for_loc(loc: List[Country]) -> ...:\n",
    "    #acc description \n",
    "    acc = ... # Type: ...\n",
    "    for c in loc:\n",
    "        acc = ...(fn_for_country(c), acc) \n",
    "    return...(acc) \n",
    "\n",
    "\n"
   ]
  },
  {
   "cell_type": "code",
   "execution_count": 4,
   "metadata": {},
   "outputs": [
    {
     "name": "stdout",
     "output_type": "stream",
     "text": [
      "\u001b[92m2 of 2 tests passed\u001b[0m\n"
     ]
    }
   ],
   "source": [
    "\n",
    "###########\n",
    "# Functions\n",
    "\n",
    "@typecheck\n",
    "def read(filename: str) -> List[Country]:\n",
    "    \"\"\"    \n",
    "    reads information from the specified file and returns a list of Countries \n",
    "    \"\"\"\n",
    "    #return []  #stub\n",
    "    # Template from HtDAP\n",
    "    # loc contains the result so far\n",
    "    loc = [] # type: List[Consumed]\n",
    "\n",
    "    with open(filename) as csvfile:\n",
    "        \n",
    "        reader = csv.reader(csvfile)\n",
    "        next(reader) # skip header line\n",
    "\n",
    "        for row in reader:\n",
    "            # you may not need to store all the rows, and you may need\n",
    "            # to convert some of the strings to other types\n",
    "            c = Country(row[0], parse_float(row[5]), parse_float(row[6]), parse_float(row[7]),\n",
    "                        parse_float(row[8]), parse_float(row[9]))\n",
    "            loc.append(c)\n",
    "    \n",
    "    return loc\n",
    "\n",
    "\n",
    "\n",
    "# Begin testing\n",
    "start_testing()\n",
    "\n",
    "# Examples and tests for read\n",
    "expect(read(\"testfile_1line\"), [C1])\n",
    "expect(read(\"testfile_4lines\"), [C1, Country('Albania',0.78,0.22,0.25,0.87,0.02),\n",
    "                                         Country('Algeria',0.6,0.16,0.17,1.14,0.01), \n",
    "                                        Country('Angola', 0.33, 0.15, 0.12, 0.2, 0.09)])\n",
    "\n",
    "# show testing summary\n",
    "summary()"
   ]
  },
  {
   "cell_type": "raw",
   "metadata": {},
   "source": [
    "#tests for jupyter notebook tests\n",
    "\n",
    "# Begin testing\n",
    "start_testing()\n",
    "\n",
    "# Examples and tests for read\n",
    "expect(read(\"testfile_one_line.csv\"), [C1])\n",
    "expect(read(\"testfile_four_lines.csv\"), [C1, Country('Albania',0.78,0.22,0.25,0.87,0.02),\n",
    "                                         Country('Algeria',0.6,0.16,0.17,1.14,0.01), \n",
    "                                        Country('Angola', 0.33, 0.15, 0.12, 0.2, 0.09)])\n",
    "\n",
    "# show testing summary\n",
    "summary()"
   ]
  }
 ],
 "metadata": {
  "kernelspec": {
   "display_name": "Python 3",
   "language": "python",
   "name": "python3"
  },
  "language_info": {
   "codemirror_mode": {
    "name": "ipython",
    "version": 3
   },
   "file_extension": ".py",
   "mimetype": "text/x-python",
   "name": "python",
   "nbconvert_exporter": "python",
   "pygments_lexer": "ipython3",
   "version": "3.7.4"
  }
 },
 "nbformat": 4,
 "nbformat_minor": 2
}
